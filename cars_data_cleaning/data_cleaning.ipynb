{
 "cells": [
  {
   "cell_type": "code",
   "execution_count": 1,
   "metadata": {},
   "outputs": [],
   "source": [
    "import numpy as np\n",
    "import pandas as pd\n",
    "import matplotlib.pyplot as plt\n",
    "%matplotlib inline\n",
    "\n",
    "df = pd.read_csv('cars_india.csv')"
   ]
  },
  {
   "cell_type": "code",
   "execution_count": 2,
   "metadata": {},
   "outputs": [],
   "source": [
    "# make a copy of the dataset\n",
    "df2 = df.copy()"
   ]
  },
  {
   "cell_type": "markdown",
   "metadata": {},
   "source": [
    "Extractions"
   ]
  },
  {
   "cell_type": "code",
   "execution_count": 3,
   "metadata": {},
   "outputs": [],
   "source": [
    "# extract make of car\n",
    "df2['name_new'] = df2.name.str.strip() \n",
    "df2['name_new'] = df2.name_new.str.split().str[0]"
   ]
  },
  {
   "cell_type": "code",
   "execution_count": 4,
   "metadata": {},
   "outputs": [],
   "source": [
    "# extract mileage\n",
    "df2['mileage_new'] = df2.mileage.str.strip()\n",
    "df2[['mileage_new','junk']] = df2.mileage_new.str.split(' ', expand=True)\n",
    "df2['mileage_new'] = pd.to_numeric(df2['mileage_new'])"
   ]
  },
  {
   "cell_type": "code",
   "execution_count": 5,
   "metadata": {},
   "outputs": [],
   "source": [
    "# extract engine size\n",
    "df2['engine_new'] = df2.engine.str.strip()\n",
    "df2[['engine_new','junk']] = df2.engine_new.str.split(' ', expand=True)\n",
    "df2['engine_new'] = pd.to_numeric(df2['engine_new'])"
   ]
  },
  {
   "cell_type": "code",
   "execution_count": 6,
   "metadata": {},
   "outputs": [],
   "source": [
    "# extract horsepower\n",
    "df2['max_power_new'] = df2.max_power.str.strip()\n",
    "df2[['max_power_new','junk']] = df2.max_power_new.str.split(' ', expand=True)\n",
    "\n",
    "# only one row has a missing bhp value, so we drop it\n",
    "df2 = df2[df2.max_power_new != 'bhp']\n",
    "df2['max_power_new'] = pd.to_numeric(df2['max_power_new'])"
   ]
  },
  {
   "cell_type": "markdown",
   "metadata": {},
   "source": [
    "Conversions"
   ]
  },
  {
   "cell_type": "code",
   "execution_count": 7,
   "metadata": {},
   "outputs": [],
   "source": [
    "# convert indian rupees to usd\n",
    "df2['selling_price_usd'] = df2['selling_price']*0.013"
   ]
  },
  {
   "cell_type": "code",
   "execution_count": 8,
   "metadata": {},
   "outputs": [],
   "source": [
    "# convert km to miles\n",
    "df2['miles_driven'] = df2['km_driven']*0.621371 "
   ]
  },
  {
   "cell_type": "code",
   "execution_count": 9,
   "metadata": {},
   "outputs": [],
   "source": [
    "# convert kmpl to mpg\n",
    "df2['mileage_new'] = df2['mileage_new']*2.352145833"
   ]
  },
  {
   "cell_type": "markdown",
   "metadata": {},
   "source": [
    "Binaries"
   ]
  },
  {
   "cell_type": "code",
   "execution_count": 10,
   "metadata": {},
   "outputs": [],
   "source": [
    "# binaries for transmission, owner, seller_type, fuel, extracted make\n",
    "df2 = pd.get_dummies(data=df2, columns=['transmission','owner','seller_type','fuel','name_new'])"
   ]
  },
  {
   "cell_type": "markdown",
   "metadata": {},
   "source": [
    "Code year"
   ]
  },
  {
   "cell_type": "code",
   "execution_count": 11,
   "metadata": {},
   "outputs": [],
   "source": [
    "df2['year'] = 2020 - df2['year']"
   ]
  },
  {
   "cell_type": "markdown",
   "metadata": {},
   "source": [
    "Dropping useless columns"
   ]
  },
  {
   "cell_type": "code",
   "execution_count": 12,
   "metadata": {},
   "outputs": [],
   "source": [
    "df2 = df2.drop(['junk','mileage','selling_price','km_driven','torque','max_power','engine'], axis=1) "
   ]
  }
 ],
 "metadata": {
  "kernelspec": {
   "display_name": "Python 3",
   "language": "python",
   "name": "python3"
  },
  "language_info": {
   "codemirror_mode": {
    "name": "ipython",
    "version": 3
   },
   "file_extension": ".py",
   "mimetype": "text/x-python",
   "name": "python",
   "nbconvert_exporter": "python",
   "pygments_lexer": "ipython3",
   "version": "3.8.6"
  }
 },
 "nbformat": 4,
 "nbformat_minor": 4
}
